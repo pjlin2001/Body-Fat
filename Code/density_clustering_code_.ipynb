{
  "nbformat": 4,
  "nbformat_minor": 0,
  "metadata": {
    "colab": {
      "provenance": []
    },
    "kernelspec": {
      "name": "python3",
      "display_name": "Python 3"
    },
    "language_info": {
      "name": "python"
    }
  },
  "cells": [
    {
      "cell_type": "code",
      "source": [
        "import pandas as pd\n",
        "import numpy as np\n",
        "from scipy import stats\n",
        "from sklearn.feature_selection import RFE\n",
        "from sklearn.linear_model import LinearRegression\n",
        "from sklearn.ensemble import RandomForestRegressor\n",
        "from sklearn.linear_model import Lasso\n",
        "from sklearn.decomposition import PCA\n",
        "\n",
        "# Load the CSV data\n",
        "data = pd.read_csv(r'BodyFat.csv')"
      ],
      "metadata": {
        "id": "7TqM-hxvlhJp"
      },
      "execution_count": 2,
      "outputs": []
    },
    {
      "cell_type": "code",
      "source": [
        "from sklearn.preprocessing import StandardScaler\n",
        "scaler = StandardScaler()"
      ],
      "metadata": {
        "id": "f35EUe8nl5NH"
      },
      "execution_count": 4,
      "outputs": []
    },
    {
      "cell_type": "code",
      "execution_count": 5,
      "metadata": {
        "colab": {
          "base_uri": "https://localhost:8080/"
        },
        "id": "tF1ld-VNlec7",
        "outputId": "b53019ba-e530-4b89-8436-b93bdad3ea78"
      },
      "outputs": [
        {
          "output_type": "execute_result",
          "data": {
            "text/plain": [
              "(1.2, 2, [38, 40, 215])"
            ]
          },
          "metadata": {},
          "execution_count": 5
        }
      ],
      "source": [
        "from sklearn.cluster import DBSCAN\n",
        "\n",
        "# Function to find DBSCAN params that yield a limited number of outliers\n",
        "def limited_outliers_dbscan(data, max_outliers):\n",
        "    for eps in [0.01, 0.05, 0.1, 0.3, 0.5, 0.7, 1, 1.2, 1.5, 1.8, 2, 2.5, 3]:\n",
        "        for min_samples in range(1, 15):\n",
        "            dbscan = DBSCAN(eps=eps, min_samples=min_samples)\n",
        "            clusters = dbscan.fit_predict(data)\n",
        "            outliers = [index for index, cluster in enumerate(clusters) if cluster == -1]\n",
        "\n",
        "            if 0 < len(outliers) <= max_outliers:\n",
        "                return eps, min_samples, outliers\n",
        "    return None, None, None\n",
        "\n",
        "# Selected data for clustering\n",
        "selected_data_for_clustering = scaler.fit_transform(data[['BODYFAT', 'ABDOMEN', 'CHEST', 'WRIST', 'ADIPOSITY']])\n",
        "\n",
        "# Find optimal parameters that yield 5 or fewer outliers\n",
        "eps_opt_limited, min_samples_opt_limited, outliers_opt_limited = limited_outliers_dbscan(selected_data_for_clustering, 5)\n",
        "\n",
        "eps_opt_limited, min_samples_opt_limited, outliers_opt_limited\n"
      ]
    }
  ]
}